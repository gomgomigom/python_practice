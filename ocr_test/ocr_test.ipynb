{
 "cells": [
  {
   "cell_type": "code",
   "execution_count": 85,
   "metadata": {},
   "outputs": [
    {
     "name": "stdout",
     "output_type": "stream",
     "text": [
      "(3508, 2479)\n"
     ]
    },
    {
     "data": {
      "image/png": "[encoded data removed]",
      "text/plain": [
       "<Figure size 432x288 with 4 Axes>"
      ]
     },
     "metadata": {},
     "output_type": "display_data"
    }
   ],
   "source": [
    "from turtle import color\n",
    "import cv2\n",
    "import matplotlib\n",
    "from PIL import Image\n",
    "import pytesseract\n",
    "from tqdm import tqdm\n",
    "from pathlib import Path\n",
    "import imutils\n",
    "import re\n",
    "import requests\n",
    "import numpy as np\n",
    "import matplotlib.pyplot as plt\n",
    "import pytesseract\n",
    "from wand.image import Image as wi\n",
    "from tempfile import TemporaryDirectory\n",
    "\n",
    "def image_to_gray(image):\n",
    "    gray_image = cv2.cvtColor(image, cv2.COLOR_BGR2GRAY)\n",
    "    return gray_image\n",
    "\n",
    "def image_to_binary(image):\n",
    "    binary_image = cv2.threshold(image, 0, 255, cv2.THRESH_BINARY+cv2.THRESH_OTSU)[1]\n",
    "    return binary_image\n",
    "\n",
    "def image_to_mean_binary(image):\n",
    "    binary_image_mean = cv2.adaptiveThreshold(image, 255, cv2.ADAPTIVE_THRESH_MEAN_C, cv2.THRESH_BINARY, 15, 100)\n",
    "    return binary_image_mean\n",
    "\n",
    "\n",
    "file_path = Path('./page_001.jpg')\n",
    "img = cv2.imread(str(file_path), cv2.IMREAD_COLOR)\n",
    "plt.subplot(3,3,1)\n",
    "plt.xticks([]), plt.yticks([])\n",
    "plt.imshow(img), plt.xlabel('color', color=\"white\", fontsize=20)\n",
    "\n",
    "gray_image = image_to_gray(img)\n",
    "print(gray_image.shape)\n",
    "plt.subplot(3,3,2)\n",
    "plt.xticks([]), plt.yticks([])\n",
    "plt.imshow(gray_image), plt.xlabel('gray', color=\"white\", fontsize=20)\n",
    "cv2.imwrite('./gray.jpg', gray_image)\n",
    "\n",
    "binary_image = image_to_binary(gray_image)\n",
    "plt.subplot(3,3,3)\n",
    "plt.xticks([]), plt.yticks([])\n",
    "plt.imshow(binary_image), plt.xlabel('binary', color=\"white\", fontsize=20)\n",
    "cv2.imwrite('./binary.jpg', binary_image)\n",
    "\n",
    "binary_image_mean = image_to_mean_binary(gray_image)\n",
    "plt.subplot(3,3,7)\n",
    "plt.xticks([]), plt.yticks([])\n",
    "plt.imshow(binary_image_mean), plt.xlabel('binary_m', color=\"white\", fontsize=20)\n",
    "cv2.imwrite('./binary_mean.jpg', binary_image_mean)\n",
    "\n",
    "binary_image_binary = image_to_binary(gray_image)\n",
    "plt.subplot(3,3,7)\n",
    "plt.xticks([]), plt.yticks([])\n",
    "plt.imshow(binary_image_binary), plt.xlabel('binary_m', color=\"white\", fontsize=20)\n",
    "cv2.imwrite('./binary_binary.jpg', binary_image_binary)\n",
    "\n",
    "\n",
    "with open('./binary.txt', 'a') as output_file:\n",
    "    text = str(\n",
    "        (\n",
    "            pytesseract.image_to_string(\n",
    "                Image.open('./binary.jpg'), lang=\"eng+kor\"\n",
    "            )\n",
    "        )\n",
    "    )\n",
    "    output_file.write(text)\n"
   ]
  },
  {
   "cell_type": "code",
   "execution_count": 88,
   "metadata": {},
   "outputs": [
    {
     "name": "stderr",
     "output_type": "stream",
     "text": [
      "CUDA not available - defaulting to CPU. Note: This module is much faster with a GPU.\n",
      "/opt/homebrew/Caskroom/miniforge/base/envs/test38/lib/python3.8/site-packages/torchvision/models/_utils.py:252: UserWarning: Accessing the model URLs via the internal dictionary of the module is deprecated since 0.13 and will be removed in 0.15. Please access them via the appropriate Weights Enum instead.\n",
      "  warnings.warn(\n",
      "/opt/homebrew/Caskroom/miniforge/base/envs/test38/lib/python3.8/site-packages/torchvision/models/_utils.py:208: UserWarning: The parameter 'pretrained' is deprecated since 0.13 and will be removed in 0.15, please use 'weights' instead.\n",
      "  warnings.warn(\n",
      "/opt/homebrew/Caskroom/miniforge/base/envs/test38/lib/python3.8/site-packages/torchvision/models/_utils.py:223: UserWarning: Arguments other than a weight enum or `None` for 'weights' are deprecated since 0.13 and will be removed in 0.15. The current behavior is equivalent to passing `weights=None`.\n",
      "  warnings.warn(msg)\n"
     ]
    },
    {
     "name": "stdout",
     "output_type": "stream",
     "text": [
      "['대 구 지 방  법 원', '제 1 1 형 사 부', '판', '결', '사', '건', '20j0j7고탑 449', '가  특정경 제범죄가중처 벌등에관한법률위반(배임 )', '(인정된', '죄명', '업무상배임 ]', '나   업무상배임', '다   부정 경쟁방지및 영 업비밀 보로에관한법 률위반', '피   고  인', '1,가다  00O (1955년생)', '주거', '부산 남구 몸로돈 (번지 이하 생락j', '틈록기 준지', '인천', '부평구   부평동 (번지  생락]', '2,나다  이스4 (1958년생)', '주거', '포랑지', '남구 인덕동 (번지', '이하 생락}', '틈록기 준지', '제주지', '건입동 (번지', '생락]', '검', '자', '김종근', '변   호 인', '생락', '판 곁 선 고', 'Zjrj8,', '4', '8,', '주', '문', '피고인', '1클 징역 3년에, 피고인', '2틀 징역 1년', 'h월에 각 처한다 ,']\n",
      "['대 구 지 방 법 원', '제 1 1 형 사 부', '판', '결', '사', '건', '2jj7고맙449', '가  특정경 제범죄가죽처 벌등에관한법률위반 (배임 ', '(인정된 죄명', '업무상배임 ]', '나   업무상배임', '다   부정 경쟁방지및 영 업비밀 보로에관한법 률위반', '피   고  인', '1,가다', '이OC (1955년생)', '주거', '부산 남구 몸료톱 (번지 이하 생략]', '틈록기 준지', '인천', '부평구   부평동 (번지   생락]', '2,나다  이스4 (1958년생)', '주거', '포함시   남구 인덕동 (번지  이하 생락]', '틈록기 준지', '제주지', '건입동 (번지   생락)', '검', '자', '김종근', '변   호 인', '생락', '판 결 선 고', '2jj8', '4', '8', '주', '문', '피고인', '1클 징역 3년에; 피고인 2v 징역 1년', 'b물에 각 처한다 ,']\n"
     ]
    }
   ],
   "source": [
    "import easyocr\n",
    "\n",
    "reader = easyocr.Reader(['en', 'ko'], gpu=True)\n",
    "\n",
    "result = reader.readtext('./binary.jpg', detail = 0)\n",
    "result2 = reader.readtext('./page_001.jpg', detail = 0)\n",
    "print(result)\n",
    "print(result2)"
   ]
  },
  {
   "cell_type": "code",
   "execution_count": 4,
   "metadata": {},
   "outputs": [
    {
     "ename": "ImportError",
     "evalue": "cannot import name 'storage' from 'google.cloud' (unknown location)",
     "output_type": "error",
     "traceback": [
      "\u001b[0;31m---------------------------------------------------------------------------\u001b[0m",
      "\u001b[0;31mImportError\u001b[0m                               Traceback (most recent call last)",
      "\u001b[1;32m/Users/gom/Documents/Coding/Python/test/ocr_test/ocr_test.ipynb Cell 3'\u001b[0m in \u001b[0;36m<cell line: 5>\u001b[0;34m()\u001b[0m\n\u001b[1;32m      <a href='vscode-notebook-cell:/Users/gom/Documents/Coding/Python/test/ocr_test/ocr_test.ipynb#ch0000002?line=1'>2</a>\u001b[0m \u001b[39mimport\u001b[39;00m \u001b[39mos\u001b[39;00m\n\u001b[1;32m      <a href='vscode-notebook-cell:/Users/gom/Documents/Coding/Python/test/ocr_test/ocr_test.ipynb#ch0000002?line=3'>4</a>\u001b[0m \u001b[39m# Imports the Google Cloud client library\u001b[39;00m\n\u001b[0;32m----> <a href='vscode-notebook-cell:/Users/gom/Documents/Coding/Python/test/ocr_test/ocr_test.ipynb#ch0000002?line=4'>5</a>\u001b[0m \u001b[39mfrom\u001b[39;00m \u001b[39mgoogle\u001b[39;00m\u001b[39m.\u001b[39;00m\u001b[39mcloud\u001b[39;00m \u001b[39mimport\u001b[39;00m storage\n\u001b[1;32m      <a href='vscode-notebook-cell:/Users/gom/Documents/Coding/Python/test/ocr_test/ocr_test.ipynb#ch0000002?line=6'>7</a>\u001b[0m storage_client \u001b[39m=\u001b[39m storage\u001b[39m.\u001b[39mClient()\n\u001b[1;32m      <a href='vscode-notebook-cell:/Users/gom/Documents/Coding/Python/test/ocr_test/ocr_test.ipynb#ch0000002?line=7'>8</a>\u001b[0m buckets \u001b[39m=\u001b[39m \u001b[39mlist\u001b[39m(storage_client\u001b[39m.\u001b[39mlist_buckets())\n",
      "\u001b[0;31mImportError\u001b[0m: cannot import name 'storage' from 'google.cloud' (unknown location)"
     ]
    }
   ],
   "source": [
    "def implicit():\n",
    "    from google.cloud import storage\n",
    "\n",
    "    # If you don't specify credentials when constructing the client, the\n",
    "    # client library will look for credentials in the environment.\n",
    "    storage_client = storage.Client()\n",
    "\n",
    "    # Make an authenticated API request\n",
    "    buckets = list(storage_client.list_buckets())\n",
    "    print(buckets)\n",
    "    \n",
    "implicit()"
   ]
  },
  {
   "cell_type": "code",
   "execution_count": null,
   "metadata": {},
   "outputs": [],
   "source": []
  }
 ],
 "metadata": {
  "kernelspec": {
   "display_name": "Python 3.8.13 ('test38')",
   "language": "python",
   "name": "python3"
  },
  "language_info": {
   "codemirror_mode": {
    "name": "ipython",
    "version": 3
   },
   "file_extension": ".py",
   "mimetype": "text/x-python",
   "name": "python",
   "nbconvert_exporter": "python",
   "pygments_lexer": "ipython3",
   "version": "3.8.13"
  },
  "orig_nbformat": 4,
  "vscode": {
   "interpreter": {
    "hash": "cd56c1f37ecf59ee39a0c19948bd126e6053c93412a23941bd2d395aa25415e8"
   }
  }
 },
 "nbformat": 4,
 "nbformat_minor": 2
}
