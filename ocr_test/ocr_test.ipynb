{
 "cells": [
  {
   "cell_type": "code",
   "execution_count": 85,
   "metadata": {},
   "outputs": [
    {
     "name": "stdout",
     "output_type": "stream",
     "text": [
      "(3508, 2479)\n"
     ]
    },
    {
     "data": {
      "image/png": "[encoded data removed]",
      "text/plain": [
       "<Figure size 432x288 with 4 Axes>"
      ]
     },
     "metadata": {},
     "output_type": "display_data"
    }
   ],
   "source": [
    "from turtle import color\n",
    "import cv2\n",
    "import matplotlib\n",
    "from PIL import Image\n",
    "import pytesseract\n",
    "from tqdm import tqdm\n",
    "from pathlib import Path\n",
    "import imutils\n",
    "import re\n",
    "import requests\n",
    "import numpy as np\n",
    "import matplotlib.pyplot as plt\n",
    "import pytesseract\n",
    "from wand.image import Image as wi\n",
    "from tempfile import TemporaryDirectory\n",
    "\n",
    "def image_to_gray(image):\n",
    "    gray_image = cv2.cvtColor(image, cv2.COLOR_BGR2GRAY)\n",
    "    return gray_image\n",
    "\n",
    "def image_to_binary(image):\n",
    "    binary_image = cv2.threshold(image, 0, 255, cv2.THRESH_BINARY+cv2.THRESH_OTSU)[1]\n",
    "    return binary_image\n",
    "\n",
    "def image_to_mean_binary(image):\n",
    "    binary_image_mean = cv2.adaptiveThreshold(image, 255, cv2.ADAPTIVE_THRESH_MEAN_C, cv2.THRESH_BINARY, 15, 100)\n",
    "    return binary_image_mean\n",
    "\n",
    "\n",
    "file_path = Path('./page_001.jpg')\n",
    "img = cv2.imread(str(file_path), cv2.IMREAD_COLOR)\n",
    "plt.subplot(3,3,1)\n",
    "plt.xticks([]), plt.yticks([])\n",
    "plt.imshow(img), plt.xlabel('color', color=\"white\", fontsize=20)\n",
    "\n",
    "gray_image = image_to_gray(img)\n",
    "print(gray_image.shape)\n",
    "plt.subplot(3,3,2)\n",
    "plt.xticks([]), plt.yticks([])\n",
    "plt.imshow(gray_image), plt.xlabel('gray', color=\"white\", fontsize=20)\n",
    "cv2.imwrite('./gray.jpg', gray_image)\n",
    "\n",
    "binary_image = image_to_binary(gray_image)\n",
    "plt.subplot(3,3,3)\n",
    "plt.xticks([]), plt.yticks([])\n",
    "plt.imshow(binary_image), plt.xlabel('binary', color=\"white\", fontsize=20)\n",
    "cv2.imwrite('./binary.jpg', binary_image)\n",
    "\n",
    "binary_image_mean = image_to_mean_binary(gray_image)\n",
    "plt.subplot(3,3,7)\n",
    "plt.xticks([]), plt.yticks([])\n",
    "plt.imshow(binary_image_mean), plt.xlabel('binary_m', color=\"white\", fontsize=20)\n",
    "cv2.imwrite('./binary_mean.jpg', binary_image_mean)\n",
    "\n",
    "binary_image_binary = image_to_binary(gray_image)\n",
    "plt.subplot(3,3,7)\n",
    "plt.xticks([]), plt.yticks([])\n",
    "plt.imshow(binary_image_binary), plt.xlabel('binary_m', color=\"white\", fontsize=20)\n",
    "cv2.imwrite('./binary_binary.jpg', binary_image_binary)\n",
    "\n",
    "\n",
    "with open('./binary.txt', 'a') as output_file:\n",
    "    text = str(\n",
    "        (\n",
    "            pytesseract.image_to_string(\n",
    "                Image.open('./binary.jpg'), lang=\"eng+kor\"\n",
    "            )\n",
    "        )\n",
    "    )\n",
    "    print(text)\n",
    "    output_file.write(text)\n"
   ]
  },
  {
   "cell_type": "code",
   "execution_count": 11,
   "metadata": {},
   "outputs": [
    {
     "name": "stderr",
     "output_type": "stream",
     "text": [
      "/opt/homebrew/Caskroom/miniforge/base/envs/test38/lib/python3.8/site-packages/tqdm/auto.py:22: TqdmWarning: IProgress not found. Please update jupyter and ipywidgets. See https://ipywidgets.readthedocs.io/en/stable/user_install.html\n",
      "  from .autonotebook import tqdm as notebook_tqdm\n",
      "CUDA not available - defaulting to CPU. Note: This module is much faster with a GPU.\n",
      "/opt/homebrew/Caskroom/miniforge/base/envs/test38/lib/python3.8/site-packages/torchvision/models/_utils.py:252: UserWarning: Accessing the model URLs via the internal dictionary of the module is deprecated since 0.13 and will be removed in 0.15. Please access them via the appropriate Weights Enum instead.\n",
      "  warnings.warn(\n",
      "/opt/homebrew/Caskroom/miniforge/base/envs/test38/lib/python3.8/site-packages/torchvision/models/_utils.py:208: UserWarning: The parameter 'pretrained' is deprecated since 0.13 and will be removed in 0.15, please use 'weights' instead.\n",
      "  warnings.warn(\n",
      "/opt/homebrew/Caskroom/miniforge/base/envs/test38/lib/python3.8/site-packages/torchvision/models/_utils.py:223: UserWarning: Arguments other than a weight enum or `None` for 'weights' are deprecated since 0.13 and will be removed in 0.15. The current behavior is equivalent to passing `weights=None`.\n",
      "  warnings.warn(msg)\n"
     ]
    }
   ],
   "source": [
    "import easyocr\n",
    "\n",
    "reader = easyocr.Reader(['en', 'ko'], gpu=True)\n",
    "\n",
    "result = reader.readtext('./binary.jpg', detail = 0)\n",
    "result2 = reader.readtext('./page_001.jpg', detail = 0)\n",
    "print(result)\n",
    "print(result2)"
   ]
  },
  {
   "cell_type": "code",
   "execution_count": 10,
   "metadata": {},
   "outputs": [
    {
     "ename": "PermissionDenied",
     "evalue": "403 This API method requires billing to be enabled. Please enable billing on project #754878613792 by visiting https://console.developers.google.com/billing/enable?project=754878613792 then retry. If you enabled billing for this project recently, wait a few minutes for the action to propagate to our systems and retry. [links {\n  description: \"Google developers console billing\"\n  url: \"https://console.developers.google.com/billing/enable?project=754878613792\"\n}\n, reason: \"BILLING_DISABLED\"\ndomain: \"googleapis.com\"\nmetadata {\n  key: \"consumer\"\n  value: \"projects/754878613792\"\n}\nmetadata {\n  key: \"service\"\n  value: \"vision.googleapis.com\"\n}\n]",
     "output_type": "error",
     "traceback": [
      "\u001b[0;31m---------------------------------------------------------------------------\u001b[0m",
      "\u001b[0;31m_InactiveRpcError\u001b[0m                         Traceback (most recent call last)",
      "File \u001b[0;32m/opt/homebrew/Caskroom/miniforge/base/envs/test38/lib/python3.8/site-packages/google/api_core/grpc_helpers.py:50\u001b[0m, in \u001b[0;36m_wrap_unary_errors.<locals>.error_remapped_callable\u001b[0;34m(*args, **kwargs)\u001b[0m\n\u001b[1;32m     49\u001b[0m \u001b[39mtry\u001b[39;00m:\n\u001b[0;32m---> 50\u001b[0m     \u001b[39mreturn\u001b[39;00m callable_(\u001b[39m*\u001b[39;49margs, \u001b[39m*\u001b[39;49m\u001b[39m*\u001b[39;49mkwargs)\n\u001b[1;32m     51\u001b[0m \u001b[39mexcept\u001b[39;00m grpc\u001b[39m.\u001b[39mRpcError \u001b[39mas\u001b[39;00m exc:\n",
      "File \u001b[0;32m/opt/homebrew/Caskroom/miniforge/base/envs/test38/lib/python3.8/site-packages/grpc/_channel.py:946\u001b[0m, in \u001b[0;36m_UnaryUnaryMultiCallable.__call__\u001b[0;34m(self, request, timeout, metadata, credentials, wait_for_ready, compression)\u001b[0m\n\u001b[1;32m    944\u001b[0m state, call, \u001b[39m=\u001b[39m \u001b[39mself\u001b[39m\u001b[39m.\u001b[39m_blocking(request, timeout, metadata, credentials,\n\u001b[1;32m    945\u001b[0m                               wait_for_ready, compression)\n\u001b[0;32m--> 946\u001b[0m \u001b[39mreturn\u001b[39;00m _end_unary_response_blocking(state, call, \u001b[39mFalse\u001b[39;49;00m, \u001b[39mNone\u001b[39;49;00m)\n",
      "File \u001b[0;32m/opt/homebrew/Caskroom/miniforge/base/envs/test38/lib/python3.8/site-packages/grpc/_channel.py:849\u001b[0m, in \u001b[0;36m_end_unary_response_blocking\u001b[0;34m(state, call, with_call, deadline)\u001b[0m\n\u001b[1;32m    848\u001b[0m \u001b[39melse\u001b[39;00m:\n\u001b[0;32m--> 849\u001b[0m     \u001b[39mraise\u001b[39;00m _InactiveRpcError(state)\n",
      "\u001b[0;31m_InactiveRpcError\u001b[0m: <_InactiveRpcError of RPC that terminated with:\n\tstatus = StatusCode.PERMISSION_DENIED\n\tdetails = \"This API method requires billing to be enabled. Please enable billing on project #754878613792 by visiting https://console.developers.google.com/billing/enable?project=754878613792 then retry. If you enabled billing for this project recently, wait a few minutes for the action to propagate to our systems and retry.\"\n\tdebug_error_string = \"{\"created\":\"@1657267483.384005000\",\"description\":\"Error received from peer ipv6:[2404:6800:400a:80e::200a]:443\",\"file\":\"src/core/lib/surface/call.cc\",\"file_line\":967,\"grpc_message\":\"This API method requires billing to be enabled. Please enable billing on project #754878613792 by visiting https://console.developers.google.com/billing/enable?project=754878613792 then retry. If you enabled billing for this project recently, wait a few minutes for the action to propagate to our systems and retry.\",\"grpc_status\":7}\"\n>",
      "\nThe above exception was the direct cause of the following exception:\n",
      "\u001b[0;31mPermissionDenied\u001b[0m                          Traceback (most recent call last)",
      "\u001b[1;32m/Users/gom/Documents/Coding/Python/test/ocr_test/ocr_test.ipynb Cell 3'\u001b[0m in \u001b[0;36m<cell line: 18>\u001b[0;34m()\u001b[0m\n\u001b[1;32m     <a href='vscode-notebook-cell:/Users/gom/Documents/Coding/Python/test/ocr_test/ocr_test.ipynb#ch0000002?line=14'>15</a>\u001b[0m     content \u001b[39m=\u001b[39m image_file\u001b[39m.\u001b[39mread()\n\u001b[1;32m     <a href='vscode-notebook-cell:/Users/gom/Documents/Coding/Python/test/ocr_test/ocr_test.ipynb#ch0000002?line=16'>17</a>\u001b[0m image \u001b[39m=\u001b[39m vision\u001b[39m.\u001b[39mImage(content\u001b[39m=\u001b[39mcontent)\n\u001b[0;32m---> <a href='vscode-notebook-cell:/Users/gom/Documents/Coding/Python/test/ocr_test/ocr_test.ipynb#ch0000002?line=17'>18</a>\u001b[0m response \u001b[39m=\u001b[39m client\u001b[39m.\u001b[39;49mlabel_detection(image\u001b[39m=\u001b[39;49mimage)\n\u001b[1;32m     <a href='vscode-notebook-cell:/Users/gom/Documents/Coding/Python/test/ocr_test/ocr_test.ipynb#ch0000002?line=18'>19</a>\u001b[0m \u001b[39mprint\u001b[39m(response)\n",
      "File \u001b[0;32m/opt/homebrew/Caskroom/miniforge/base/envs/test38/lib/python3.8/site-packages/google/cloud/vision_helpers/decorators.py:112\u001b[0m, in \u001b[0;36m_create_single_feature_method.<locals>.inner\u001b[0;34m(self, image, max_results, retry, timeout, metadata, **kwargs)\u001b[0m\n\u001b[1;32m    110\u001b[0m     copied_features[\u001b[39m\"\u001b[39m\u001b[39mmax_results\u001b[39m\u001b[39m\"\u001b[39m] \u001b[39m=\u001b[39m max_results\n\u001b[1;32m    111\u001b[0m request \u001b[39m=\u001b[39m \u001b[39mdict\u001b[39m(image\u001b[39m=\u001b[39mimage, features\u001b[39m=\u001b[39m[copied_features], \u001b[39m*\u001b[39m\u001b[39m*\u001b[39mkwargs)\n\u001b[0;32m--> 112\u001b[0m response \u001b[39m=\u001b[39m \u001b[39mself\u001b[39;49m\u001b[39m.\u001b[39;49mannotate_image(\n\u001b[1;32m    113\u001b[0m     request, retry\u001b[39m=\u001b[39;49mretry, timeout\u001b[39m=\u001b[39;49mtimeout, metadata\u001b[39m=\u001b[39;49mmetadata\n\u001b[1;32m    114\u001b[0m )\n\u001b[1;32m    115\u001b[0m \u001b[39mreturn\u001b[39;00m response\n",
      "File \u001b[0;32m/opt/homebrew/Caskroom/miniforge/base/envs/test38/lib/python3.8/site-packages/google/cloud/vision_helpers/__init__.py:76\u001b[0m, in \u001b[0;36mVisionHelpers.annotate_image\u001b[0;34m(self, request, retry, timeout, metadata)\u001b[0m\n\u001b[1;32m     74\u001b[0m \u001b[39melif\u001b[39;00m \u001b[39mlen\u001b[39m(request\u001b[39m.\u001b[39mfeatures) \u001b[39m==\u001b[39m \u001b[39m0\u001b[39m:\n\u001b[1;32m     75\u001b[0m     request\u001b[39m.\u001b[39mfeatures \u001b[39m=\u001b[39m \u001b[39mself\u001b[39m\u001b[39m.\u001b[39m_get_all_features()\n\u001b[0;32m---> 76\u001b[0m r \u001b[39m=\u001b[39m \u001b[39mself\u001b[39;49m\u001b[39m.\u001b[39;49mbatch_annotate_images(\n\u001b[1;32m     77\u001b[0m     requests\u001b[39m=\u001b[39;49m[request], retry\u001b[39m=\u001b[39;49mretry, timeout\u001b[39m=\u001b[39;49mtimeout, metadata\u001b[39m=\u001b[39;49mmetadata\n\u001b[1;32m     78\u001b[0m )\n\u001b[1;32m     79\u001b[0m \u001b[39mreturn\u001b[39;00m r\u001b[39m.\u001b[39mresponses[\u001b[39m0\u001b[39m]\n",
      "File \u001b[0;32m/opt/homebrew/Caskroom/miniforge/base/envs/test38/lib/python3.8/site-packages/google/cloud/vision_v1/services/image_annotator/client.py:540\u001b[0m, in \u001b[0;36mImageAnnotatorClient.batch_annotate_images\u001b[0;34m(self, request, requests, retry, timeout, metadata)\u001b[0m\n\u001b[1;32m    537\u001b[0m rpc \u001b[39m=\u001b[39m \u001b[39mself\u001b[39m\u001b[39m.\u001b[39m_transport\u001b[39m.\u001b[39m_wrapped_methods[\u001b[39mself\u001b[39m\u001b[39m.\u001b[39m_transport\u001b[39m.\u001b[39mbatch_annotate_images]\n\u001b[1;32m    539\u001b[0m \u001b[39m# Send the request.\u001b[39;00m\n\u001b[0;32m--> 540\u001b[0m response \u001b[39m=\u001b[39m rpc(\n\u001b[1;32m    541\u001b[0m     request,\n\u001b[1;32m    542\u001b[0m     retry\u001b[39m=\u001b[39;49mretry,\n\u001b[1;32m    543\u001b[0m     timeout\u001b[39m=\u001b[39;49mtimeout,\n\u001b[1;32m    544\u001b[0m     metadata\u001b[39m=\u001b[39;49mmetadata,\n\u001b[1;32m    545\u001b[0m )\n\u001b[1;32m    547\u001b[0m \u001b[39m# Done; return the response.\u001b[39;00m\n\u001b[1;32m    548\u001b[0m \u001b[39mreturn\u001b[39;00m response\n",
      "File \u001b[0;32m/opt/homebrew/Caskroom/miniforge/base/envs/test38/lib/python3.8/site-packages/google/api_core/gapic_v1/method.py:154\u001b[0m, in \u001b[0;36m_GapicCallable.__call__\u001b[0;34m(self, timeout, retry, *args, **kwargs)\u001b[0m\n\u001b[1;32m    151\u001b[0m     metadata\u001b[39m.\u001b[39mextend(\u001b[39mself\u001b[39m\u001b[39m.\u001b[39m_metadata)\n\u001b[1;32m    152\u001b[0m     kwargs[\u001b[39m\"\u001b[39m\u001b[39mmetadata\u001b[39m\u001b[39m\"\u001b[39m] \u001b[39m=\u001b[39m metadata\n\u001b[0;32m--> 154\u001b[0m \u001b[39mreturn\u001b[39;00m wrapped_func(\u001b[39m*\u001b[39;49margs, \u001b[39m*\u001b[39;49m\u001b[39m*\u001b[39;49mkwargs)\n",
      "File \u001b[0;32m/opt/homebrew/Caskroom/miniforge/base/envs/test38/lib/python3.8/site-packages/google/api_core/grpc_helpers.py:52\u001b[0m, in \u001b[0;36m_wrap_unary_errors.<locals>.error_remapped_callable\u001b[0;34m(*args, **kwargs)\u001b[0m\n\u001b[1;32m     50\u001b[0m     \u001b[39mreturn\u001b[39;00m callable_(\u001b[39m*\u001b[39margs, \u001b[39m*\u001b[39m\u001b[39m*\u001b[39mkwargs)\n\u001b[1;32m     51\u001b[0m \u001b[39mexcept\u001b[39;00m grpc\u001b[39m.\u001b[39mRpcError \u001b[39mas\u001b[39;00m exc:\n\u001b[0;32m---> 52\u001b[0m     \u001b[39mraise\u001b[39;00m exceptions\u001b[39m.\u001b[39mfrom_grpc_error(exc) \u001b[39mfrom\u001b[39;00m \u001b[39mexc\u001b[39;00m\n",
      "\u001b[0;31mPermissionDenied\u001b[0m: 403 This API method requires billing to be enabled. Please enable billing on project #754878613792 by visiting https://console.developers.google.com/billing/enable?project=754878613792 then retry. If you enabled billing for this project recently, wait a few minutes for the action to propagate to our systems and retry. [links {\n  description: \"Google developers console billing\"\n  url: \"https://console.developers.google.com/billing/enable?project=754878613792\"\n}\n, reason: \"BILLING_DISABLED\"\ndomain: \"googleapis.com\"\nmetadata {\n  key: \"consumer\"\n  value: \"projects/754878613792\"\n}\nmetadata {\n  key: \"service\"\n  value: \"vision.googleapis.com\"\n}\n]"
     ]
    }
   ],
   "source": [
    "import io\n",
    "import os\n",
    "\n",
    "# Imports the Google Cloud client library\n",
    "from google.cloud import vision\n",
    "\n",
    "# Instantiates a client\n",
    "client = vision.ImageAnnotatorClient()\n",
    "\n",
    "# The name of the image file to annotate\n",
    "file_name = os.path.join('./binary.jpg')\n",
    "\n",
    "# Loads the image into memory\n",
    "with io.open(file_name, 'rb') as image_file:\n",
    "    content = image_file.read()\n",
    "\n",
    "image = vision.Image(content=content)\n",
    "response = client.label_detection(image=image)\n",
    "print(response)\n"
   ]
  },
  {
   "cell_type": "code",
   "execution_count": null,
   "metadata": {},
   "outputs": [],
   "source": []
  }
 ],
 "metadata": {
  "kernelspec": {
   "display_name": "Python 3.8.13 ('test38')",
   "language": "python",
   "name": "python3"
  },
  "language_info": {
   "codemirror_mode": {
    "name": "ipython",
    "version": 3
   },
   "file_extension": ".py",
   "mimetype": "text/x-python",
   "name": "python",
   "nbconvert_exporter": "python",
   "pygments_lexer": "ipython3",
   "version": "3.8.13"
  },
  "orig_nbformat": 4,
  "vscode": {
   "interpreter": {
    "hash": "cd56c1f37ecf59ee39a0c19948bd126e6053c93412a23941bd2d395aa25415e8"
   }
  }
 },
 "nbformat": 4,
 "nbformat_minor": 2
}
