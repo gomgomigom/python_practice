{
 "cells": [
  {
   "cell_type": "code",
   "execution_count": 1,
   "metadata": {},
   "outputs": [
    {
     "name": "stdout",
     "output_type": "stream",
     "text": [
      "    text   샘플\n",
      "0  바나나 3  xxx\n",
      "1  오렌지 6  xxx\n",
      "2   사과 2  xxx\n",
      "    text   샘플   과일 갯수\n",
      "0  바나나 3  xxx  바나나  3\n",
      "1  오렌지 6  xxx  오렌지  6\n",
      "2   사과 2  xxx   사과  2\n",
      "  name  age\n",
      "0    k    1\n",
      "1    m    2\n",
      "2    s    3\n",
      "   age name\n",
      "0    1    k\n",
      "1    2    m\n",
      "2    3    s\n"
     ]
    }
   ],
   "source": [
    "import pandas as pd\n",
    "import glob\n",
    "import os\n",
    "import re\n",
    "\n",
    "\n",
    "list_A = [\n",
    "    {\"text\": \"바나나 3\", \"샘플\": \"xxx\"},\n",
    "    {\"text\": \"오렌지 6\", \"샘플\": \"xxx\"},\n",
    "    {\"text\": \"사과 2\", \"샘플\": \"xxx\"},\n",
    "]\n",
    "\n",
    "df = pd.DataFrame(list_A)\n",
    "print(df)\n",
    "\n",
    "df[\"과일\"] = df.text.str.split(\" \").str[0]\n",
    "df[\"갯수\"] = df.text.str.split(\" \").str[1]\n",
    "\n",
    "print(df)\n",
    "\n",
    "list_B = {\"name\": [\"k\", \"m\", \"s\"], \"age\": [1, 2, 3]}\n",
    "df2 = pd.DataFrame(list_B)\n",
    "print(df2)\n",
    "\n",
    "df2 = df2[[\"age\", \"name\"]]\n",
    "print(df2)\n",
    "\n"
   ]
  },
  {
   "cell_type": "code",
   "execution_count": 9,
   "metadata": {},
   "outputs": [
    {
     "name": "stdout",
     "output_type": "stream",
     "text": [
      "['./csv_merge/precedent.csv']\n"
     ]
    },
    {
     "ename": "NameError",
     "evalue": "name 'head' is not defined",
     "output_type": "error",
     "traceback": [
      "\u001b[0;31m---------------------------------------------------------------------------\u001b[0m",
      "\u001b[0;31mNameError\u001b[0m                                 Traceback (most recent call last)",
      "\u001b[1;32m/Users/gom/Documents/Coding/Python/test/hello.ipynb Cell 2'\u001b[0m in \u001b[0;36m<cell line: 8>\u001b[0;34m()\u001b[0m\n\u001b[1;32m      <a href='vscode-notebook-cell:/Users/gom/Documents/Coding/Python/test/hello.ipynb#ch0000001?line=2'>3</a>\u001b[0m \u001b[39mprint\u001b[39m(allFile_list)\n\u001b[1;32m      <a href='vscode-notebook-cell:/Users/gom/Documents/Coding/Python/test/hello.ipynb#ch0000001?line=6'>7</a>\u001b[0m dff \u001b[39m=\u001b[39m pd\u001b[39m.\u001b[39mDataFrame(allFile_list)\n\u001b[0;32m----> <a href='vscode-notebook-cell:/Users/gom/Documents/Coding/Python/test/hello.ipynb#ch0000001?line=7'>8</a>\u001b[0m \u001b[39mprint\u001b[39m(dff, head(\u001b[39m5\u001b[39m))\n",
      "\u001b[0;31mNameError\u001b[0m: name 'head' is not defined"
     ]
    }
   ],
   "source": [
    "\n",
    "\n",
    "df = pd.read_csv('./test1.csv')\n",
    "\n",
    "\n",
    "print(df)"
   ]
  }
 ],
 "metadata": {
  "kernelspec": {
   "display_name": "Python 3.8.13 ('test38')",
   "language": "python",
   "name": "python3"
  },
  "language_info": {
   "codemirror_mode": {
    "name": "ipython",
    "version": 3
   },
   "file_extension": ".py",
   "mimetype": "text/x-python",
   "name": "python",
   "nbconvert_exporter": "python",
   "pygments_lexer": "ipython3",
   "version": "3.8.13"
  },
  "orig_nbformat": 4,
  "vscode": {
   "interpreter": {
    "hash": "cd56c1f37ecf59ee39a0c19948bd126e6053c93412a23941bd2d395aa25415e8"
   }
  }
 },
 "nbformat": 4,
 "nbformat_minor": 2
}
