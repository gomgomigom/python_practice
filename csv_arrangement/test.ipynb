{
 "cells": [
  {
   "cell_type": "code",
   "execution_count": 60,
   "metadata": {},
   "outputs": [
    {
     "name": "stdout",
     "output_type": "stream",
     "text": [
      "인  천  지  방  법  원\n",
      "판          결\n",
      "사       건 2007고단5780  횡령\n",
      "피  고  인 이○○\n",
      "검       사\n",
      "변  호  인 법무법인\n",
      "판 결 선 고 2008. 4. 25.\n",
      "  \n",
      "주       문\n",
      "피고인은 무죄.\n",
      "  \n",
      "이       유\n",
      "1. 공소사실\n",
      "피고인은 피해자 박○○에게 차용금 등으로 436,069,000원의 채무를 지고 있었다. \n",
      "피고인은 2006. 9. 13.경 인천 남구 󰏬󰏬󰏬에 있는 이○○ 변호사 사무실에서 위 채무\n",
      "의 변제를 위해, 충남 서천군 서천화력발전소 진공펌프 설치 및 배관 공사로부터 발생\n",
      "할 예정인 피고인의 임○○에 대한 공사대금 채권 중 100,000,000원의 공사대금 채권\n",
      "을 양도하였다. \n",
      "그러함에도 불구하고, 장○○을 통하여 임○○으로부터 위 공사대금으로 2006. 10. 20.\n",
      "경 29,700,000원, 같은 해 11. 3.경 500,000원, 같은 해 11. 6.경 46,200,000원, 같은 해 \n",
      "- 1 -12. 11.경 7,000,000원, 2007. 1. 10.경 3,450,000원, 같은 해 1. 17.경 2,000,000원, 같\n",
      "은 해 1. 23.경 53,550,000원, 같은 해 3. 30.경 3,000,000원 등 합계 145,400,000원을 \n",
      "지급받아 보관하던 중 그 무렵 임의로 피고인의 공사비 등으로 모두 소비함으로써 \n",
      "100,000,000원을 횡령하였다. \n",
      "2. 판단\n",
      "이 사건 공소사실에 관하여 변호인은, 피고인이 채권양도 후 그 통지까지 마쳤으므로, \n",
      "피고인이 그 후 채무자로부터 양도된 채권을 변제명목으로 수령하였다 하더라도 위 돈\n",
      "에 관하여 채권양수인을 위한 보관자라고 할 수 없으므로, 횡령죄는 성립하지 않는다\n",
      "고 다툰다. \n",
      "살피건대, 검사가 제출한 채권양도계약서 사본, 채권양도통지서 사본의 각 기재에 의하\n",
      "면, 피고인은 공소사실 기재와 같이 피고인의 임○○에 대한 공사대금 채권 중 1억원\n",
      "을 박○○에게 양도하고, 같은 날 채무자인 임○○에게 위 채권양도사실을 통지한 사\n",
      "실이 인정된다. \n",
      "이와 같이 피고인이 채권양도에 따른 통지까지 마쳤다면, 피고인이 그 통지 후 채무자\n",
      "로부터 채권을 추심하여 돈을 수령하였다 하더라도 채무자가 피고인에 대하여 한 위 \n",
      "변제는 유효한 변제가 될 수 없고, 채권양수인은 여전히 채무자에 대하여 채권을 가지\n",
      "고 있다고 할 것이다. 그렇다면 피고인이 추심한 위 돈은 양수인의 소유에 속한다고 \n",
      "할 수 없으므로 피고인이 위 돈을 피해자를 위하여 보관하는 관계에 있다고 할 수 없\n",
      "고, 달리 피고인이 위 돈을 피해자를 위하여 보관하는 지위에 있다는 점을 인정할 증\n",
      "거가 없다. \n",
      "3. 결론\n",
      "- 2 -따라서, 이 사건 공소사실은 범죄의 증명이 없는 경우에 해당하여 형사소송법 제325조 \n",
      "후단에 의하여 무죄를 선고한다. \n",
      "  \n",
      "      판사      _________________________\n",
      "- 3 -\n",
      " 2007고단5780  횡령\n"
     ]
    }
   ],
   "source": [
    "import pandas as pd\n",
    "import re\n",
    "import os\n",
    "\n",
    "df = pd.read_csv('../csv_arrangement/test.csv')\n",
    "\n",
    "test_text = df.판례내용[6] \n",
    "print(test_text)\n",
    "\n",
    "crime = re.split(r'\\n사 *건\\b|\\n피 *고 *인\\b', maxsplit=2, string=test_text)[1]\n",
    "\n",
    "print(crime)"
   ]
  },
  {
   "cell_type": "code",
   "execution_count": 70,
   "metadata": {},
   "outputs": [
    {
     "name": "stdout",
     "output_type": "stream",
     "text": [
      " 2007고단5780  횡령\n",
      "<re.Match object; span=(1, 11), match='2007고단5780'>\n"
     ]
    }
   ],
   "source": [
    "print(crime)\n",
    "test = re.compile(r'\\b\\d+[가-힣]{1,3}\\d+\\b')\n",
    "print(test.search(crime))"
   ]
  },
  {
   "cell_type": "code",
   "execution_count": 58,
   "metadata": {},
   "outputs": [
    {
     "name": "stdout",
     "output_type": "stream",
     "text": [
      " 2020고단1142  상해\n"
     ]
    }
   ],
   "source": [
    "print(crime)"
   ]
  },
  {
   "cell_type": "code",
   "execution_count": 59,
   "metadata": {},
   "outputs": [
    {
     "name": "stdout",
     "output_type": "stream",
     "text": [
      " 2020고단1142  상해\n"
     ]
    }
   ],
   "source": [
    "print(crime)"
   ]
  }
 ],
 "metadata": {
  "kernelspec": {
   "display_name": "Python 3.8.13 ('test38')",
   "language": "python",
   "name": "python3"
  },
  "language_info": {
   "codemirror_mode": {
    "name": "ipython",
    "version": 3
   },
   "file_extension": ".py",
   "mimetype": "text/x-python",
   "name": "python",
   "nbconvert_exporter": "python",
   "pygments_lexer": "ipython3",
   "version": "3.8.13"
  },
  "orig_nbformat": 4,
  "vscode": {
   "interpreter": {
    "hash": "cd56c1f37ecf59ee39a0c19948bd126e6053c93412a23941bd2d395aa25415e8"
   }
  }
 },
 "nbformat": 4,
 "nbformat_minor": 2
}
