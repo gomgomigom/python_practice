{
 "cells": [
  {
   "cell_type": "code",
   "execution_count": null,
   "metadata": {},
   "outputs": [
    {
     "ename": "",
     "evalue": "",
     "output_type": "error",
     "traceback": [
      "\u001b[1;31m'Python 3.8.13 ('test38')'(으)로 셀을 실행하려면 ipykernel 패키지가 필요합니다.\n",
      "다음 명령어를 실행하여 Python 환경에 'ipykernel'을(를) 설치합니다. \r\n",
      " 명령: 'conda install -n test38 ipykernel --update-deps --force-reinstall'"
     ]
    }
   ],
   "source": [
    "import fitz\n",
    "import cv2\n",
    "import pytesseract\n",
    "import numpy as np\n",
    "import matplotlib.pyplot as plt\n",
    "from PIL import Image\n",
    "import os\n",
    "from tempfile import TemporaryDirectory\n",
    "\n",
    "os.chdir(os.path.dirname(__file__))\n",
    "\n",
    "SCANNED_FILE = \"./warehouse/2020고단4339_판결문.pdf\"\n",
    "\n",
    "img = cv2.imread(SCANNED_FILE)\n",
    "\n",
    "zoom_x = 2.0\n",
    "zoom_y = 2.0\n",
    "mat = fitz.Matrix(zoom_x, zoom_y)\n",
    "\n",
    "print(\"Generated pages: \")\n",
    "with fitz.open(SCANNED_FILE) as doc:\n",
    "    for page in doc:\n",
    "        pix = page.get_pixmap(matrix=mat)\n",
    "        png = (\n",
    "            \"./warehouse/\"\n",
    "            + SCANNED_FILE.split(\"/\")[-1].split(\".\")[0]\n",
    "            + \"page%i.png\" % page.number\n",
    "        )\n",
    "        print(png)\n",
    "        pix.save(png)\n",
    "\n",
    "# original_image = cv2.imread(\"./warehouse/2020고단4339_판결문page0.png\")\n",
    "\n",
    "# gray_image = cv2.cvtColor(original_image, cv2.COLOR_BayerGR2GRAY)\n",
    "\n",
    "# plt.imshow(gray_image, cmap=\"gray\")\n"
   ]
  }
 ],
 "metadata": {
  "kernelspec": {
   "display_name": "Python 3.8.13 ('test38')",
   "language": "python",
   "name": "python3"
  },
  "language_info": {
   "name": "python",
   "version": "3.8.13"
  },
  "orig_nbformat": 4,
  "vscode": {
   "interpreter": {
    "hash": "cd56c1f37ecf59ee39a0c19948bd126e6053c93412a23941bd2d395aa25415e8"
   }
  }
 },
 "nbformat": 4,
 "nbformat_minor": 2
}
