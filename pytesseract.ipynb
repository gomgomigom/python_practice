{
 "cells": [
  {
   "cell_type": "code",
   "execution_count": 2,
   "metadata": {},
   "outputs": [
    {
     "name": "stdout",
     "output_type": "stream",
     "text": [
      "/Users/gom/Documents/Coding/Python/test\n",
      "Generated pages: \n",
      "./warehouse/2020고단4339_판결문page0.png\n",
      "./warehouse/2020고단4339_판결문page1.png\n"
     ]
    }
   ],
   "source": [
    "import fitz\n",
    "import cv2\n",
    "import pytesseract\n",
    "import numpy as np\n",
    "import matplotlib.pyplot as plt\n",
    "from PIL import Image\n",
    "import os\n",
    "from tempfile import TemporaryDirectory\n",
    "\n",
    "\n",
    "SCANNED_FILE = \"./warehouse/2020고단4339_판결문.pdf\"\n",
    "\n",
    "img = cv2.imread(SCANNED_FILE)\n",
    "\n",
    "zoom_x = 2.0\n",
    "zoom_y = 2.0\n",
    "mat = fitz.Matrix(zoom_x, zoom_y)\n",
    "\n",
    "print(\"Generated pages: \")\n",
    "with fitz.open(SCANNED_FILE) as doc:\n",
    "    for page in doc:\n",
    "        pix = page.get_pixmap(matrix=mat)\n",
    "        png = (\n",
    "            \"./warehouse/\"\n",
    "            + SCANNED_FILE.split(\"/\")[-1].split(\".\")[0]\n",
    "            + \"page%i.png\" % page.number\n",
    "        )\n",
    "        print(png)\n",
    "        pix.save(png)\n",
    "\n",
    "original_image = cv2.imread(\"./warehouse/2020고단4339_판결문page0.png\")\n",
    "\n",
    "gray_image = cv2.cvtColor(original_image, cv2.COLOR_BayerGR2GRAY)\n",
    "\n",
    "plt.imshow(gray_image, cmap=\"gray\")\n"
   ]
  }
 ],
 "metadata": {
  "kernelspec": {
   "display_name": "Python 3.8.13 ('test38')",
   "language": "python",
   "name": "python3"
  },
  "language_info": {
   "codemirror_mode": {
    "name": "ipython",
    "version": 3
   },
   "file_extension": ".py",
   "mimetype": "text/x-python",
   "name": "python",
   "nbconvert_exporter": "python",
   "pygments_lexer": "ipython3",
   "version": "3.8.13"
  },
  "orig_nbformat": 4,
  "vscode": {
   "interpreter": {
    "hash": "cd56c1f37ecf59ee39a0c19948bd126e6053c93412a23941bd2d395aa25415e8"
   }
  }
 },
 "nbformat": 4,
 "nbformat_minor": 2
}
