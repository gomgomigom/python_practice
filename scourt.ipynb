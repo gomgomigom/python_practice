{
 "cells": [
  {
   "cell_type": "code",
   "execution_count": 68,
   "metadata": {},
   "outputs": [
    {
     "name": "stderr",
     "output_type": "stream",
     "text": [
      "100%|██████████| 1/1 [00:00<00:00,  5.94it/s]\n"
     ]
    }
   ],
   "source": [
    "import requests\n",
    "import lxml\n",
    "from bs4 import BeautifulSoup\n",
    "import re\n",
    "import pandas as pd\n",
    "from tqdm import tqdm\n",
    "import pdfplumber\n",
    "\n",
    "def read_pdf(file_name):\n",
    "    check_pdf = re.compile(r\".*\\.pdf\")\n",
    "    if re.match(check_pdf, file_name) is None:\n",
    "        return None\n",
    "    with pdfplumber.open(f\"./pdf_hwp/{file_name}\") as pdf:\n",
    "        pages = pdf.pages\n",
    "        text = \"\"\n",
    "        for page in pages:\n",
    "            text += page.extract_text()\n",
    "        if len(text) < 10:\n",
    "            text = f\"{file_name} 한글 인식 불가 ! OCR 필요\"\n",
    "    return text\n",
    "\n",
    "\n",
    "# file_id = '1138672129786_104849.pdf'\n",
    "# file_name = 'down.pdf'\n",
    "def download_file(file_id, file_name=None):\n",
    "    if not file_name:\n",
    "        return\n",
    "    download_url = f\"https://file.scourt.go.kr//AttachDownload?&name=downForm&file={file_id}&path=003&downFile={file_name}\"\n",
    "\n",
    "    with open(f\"./pdf_hwp/{file_name}\", \"wb\") as file:\n",
    "        response = requests.get(download_url)\n",
    "        file.write(response.content)\n",
    "\n",
    "\n",
    "def make_csv_file(body_content, file_name=None):\n",
    "    if not file_name:\n",
    "        return\n",
    "    file_name = re.sub(r\"\\..{2,4}\", r\".csv\", file_name)\n",
    "    pd_body_content = pd.DataFrame(body_content)\n",
    "    pd_body_content.to_csv(path_or_buf=f\"./pdf_hwp/{file_name}\", index=False)\n",
    "\n",
    "for i in tqdm(range(49, 50)):\n",
    "    base_url = \"https://busan.scourt.go.kr/dcboard/new/DcNewsViewAction.work?&gubun=44&cbub_code=000410&searchWord=&pageIndex=1\"\n",
    "    params = {\"seqnum\": i}\n",
    "    resp = requests.get(base_url, params=params)\n",
    "    soup = BeautifulSoup(resp.content, \"lxml\")\n",
    "    tbody_list = []\n",
    "    tbody = soup.find(\"tbody\")\n",
    "    title = tbody.find(\"td\", class_=\"title\").text\n",
    "    court = tbody.select_one(\"tr:nth-child(2) > td:nth-child(2)\").text\n",
    "    downloads = tbody.select(\"tr:nth-child(3) > td > a\")\n",
    "    url_regex = re.compile(r\"\\'(.*\\..{2,4})\\'\\,\\'(.*\\..{2,4})\\'\")\n",
    "    body = tbody.find(\"div\", class_=\"view_content\").getText()\n",
    "    file_list = []\n",
    "    for download in downloads:\n",
    "        file_id = url_regex.search(str(download)).group(1)\n",
    "        file_name = url_regex.search(str(download)).group(2)\n",
    "        file_list.append(file_name)\n",
    "        download_file(file_id, file_name)\n",
    "\n",
    "    body_content = [\n",
    "        {\n",
    "            \"seqnum\": i,\n",
    "            \"url\": f\"{base_url}&seqnum={i}\",\n",
    "            \"제목\": title,\n",
    "            \"법원\": court,\n",
    "            \"내용\": body,\n",
    "            \"file_name\": file_list,\n",
    "            \"file_body\": None,\n",
    "        }\n",
    "    ]\n",
    "    text_list = []\n",
    "    for file_name in file_list:\n",
    "        text_list.append(read_pdf(file_name))\n",
    "\n",
    "    body_content[0][\"file_body\"] = text_list\n",
    "\n",
    "    make_csv_file(body_content, file_name)\n"
   ]
  },
  {
   "cell_type": "code",
   "execution_count": 7,
   "metadata": {},
   "outputs": [
    {
     "name": "stdout",
     "output_type": "stream",
     "text": [
      "1656480366\n"
     ]
    }
   ],
   "source": [
    "import datetime\n",
    "import time\n",
    "print(time.time())\n",
    "print(str(int(datetime.datetime.now().timestamp())))\n",
    "# print(read_pdf('2005허5860.pdf'))\n",
    "# with open('./pdf_hwp/eee.txt', 'w') as f:\n",
    "#     text_desc = read_pdf('2005허5860.pdf')\n",
    "#     f.write(text_desc)\n",
    "    \n"
   ]
  }
 ],
 "metadata": {
  "kernelspec": {
   "display_name": "Python 3.8.13 ('test38')",
   "language": "python",
   "name": "python3"
  },
  "language_info": {
   "codemirror_mode": {
    "name": "ipython",
    "version": 3
   },
   "file_extension": ".py",
   "mimetype": "text/x-python",
   "name": "python",
   "nbconvert_exporter": "python",
   "pygments_lexer": "ipython3",
   "version": "3.8.13"
  },
  "orig_nbformat": 4,
  "vscode": {
   "interpreter": {
    "hash": "cd56c1f37ecf59ee39a0c19948bd126e6053c93412a23941bd2d395aa25415e8"
   }
  }
 },
 "nbformat": 4,
 "nbformat_minor": 2
}
