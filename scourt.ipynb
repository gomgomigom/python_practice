{
 "cells": [
  {
   "cell_type": "code",
   "execution_count": 20,
   "metadata": {},
   "outputs": [
    {
     "name": "stdout",
     "output_type": "stream",
     "text": [
      "서울중앙지방법원 2006. 1. 11. 선고 2001노1474 판결\n",
      "서울중앙지방법원\n",
      "1136954491418_134131.pdf\n",
      "2001노1474(판결요지서).pdf\n",
      "1136954492014_134132.pdf\n",
      "2001노1474.pdf\n",
      "\n",
      "권영길 국회의원에 대한 노동쟁의조정법위반 등 피고사건의 항소심 판결입니다.\n",
      "\n"
     ]
    }
   ],
   "source": [
    "import requests\n",
    "import lxml\n",
    "from bs4 import BeautifulSoup\n",
    "import re\n",
    "import pandas as pd\n",
    "\n",
    "\n",
    "# file_id = '1138672129786_104849.pdf'\n",
    "# file_name = 'down.pdf'\n",
    "def download_file(download_url, file_name=None): \n",
    "  if not file_name: \n",
    "    file_name=download_url.split('/')[-1]\n",
    "\n",
    "  with open(f'./pdf_hwp/{file_name}', \"wb\") as file:\n",
    "    response = requests.get(download_url)\n",
    "    file.write(response.content)\n",
    "\n",
    "def make_csv_file(body_content, file_name=None): \n",
    "  if not file_name:\n",
    "    file_name=download_url.split('/')[-1]\n",
    "  \n",
    "  file_name = re.sub(r'.pdf', r'.csv', file_name)\n",
    "  pd_body_content = pd.DataFrame(body_content)\n",
    "  pd_body_content.to_csv(path_or_buf=f\"./pdf_hwp/{file_name}\", index=False)\n",
    "\n",
    "\n",
    "\n",
    "\n",
    "\n",
    "base_url = 'https://busan.scourt.go.kr/dcboard/new/DcNewsViewAction.work?&gubun=44&cbub_code=000410&searchWord=&pageIndex=1'\n",
    "params = {\n",
    "\t'seqnum':46\n",
    "\t}\n",
    "\n",
    "resp = requests.get(base_url, params=params)\n",
    "soup = BeautifulSoup(resp.content, 'lxml')\n",
    "tbody_list = []\n",
    "tbody = soup.find('tbody')\n",
    "title = tbody.find('td',class_=\"title\").text\n",
    "print(title)\n",
    "court = tbody.select_one('tr:nth-child(2) > td:nth-child(2)').text\n",
    "print(court)\n",
    "downloads = tbody.select('tr:nth-child(3) > td > a')\n",
    "url_regex = re.compile(r'\\'(.*\\.pdf)\\'\\,\\'(.*.pdf)\\'')\n",
    "for download in downloads: \n",
    "\tfile_id = url_regex.search(str(download)).group(1)\n",
    "\tfile_name = url_regex.search(str(download)).group(2)\n",
    "\tprint(file_id)\n",
    "\tprint(file_name)\n",
    "\tdownload_url = f'https://file.scourt.go.kr//AttachDownload?&name=downForm&file={file_id}&path=003&downFile={file_name}'\n",
    "\tdownload_file(download_url, file_name)\n",
    "\n",
    "body = tbody.find('div', class_=\"view_content\").getText()\n",
    "print(body)\n",
    "\n",
    "body_content = [{\n",
    "\t\"제목\": title,\n",
    "\t\"법원\": court, \n",
    "\t\"내용\": body\n",
    "}]\n",
    "\n",
    "make_csv_file(body_content, file_name)\n",
    "\n",
    "\n",
    "\n",
    "\n",
    "\n",
    "\n"
   ]
  }
 ],
 "metadata": {
  "kernelspec": {
   "display_name": "Python 3.8.13 ('test38')",
   "language": "python",
   "name": "python3"
  },
  "language_info": {
   "codemirror_mode": {
    "name": "ipython",
    "version": 3
   },
   "file_extension": ".py",
   "mimetype": "text/x-python",
   "name": "python",
   "nbconvert_exporter": "python",
   "pygments_lexer": "ipython3",
   "version": "3.8.13"
  },
  "orig_nbformat": 4,
  "vscode": {
   "interpreter": {
    "hash": "cd56c1f37ecf59ee39a0c19948bd126e6053c93412a23941bd2d395aa25415e8"
   }
  }
 },
 "nbformat": 4,
 "nbformat_minor": 2
}
