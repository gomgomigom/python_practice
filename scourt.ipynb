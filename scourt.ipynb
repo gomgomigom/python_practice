{
 "cells": [
  {
   "cell_type": "code",
   "execution_count": 3,
   "metadata": {},
   "outputs": [
    {
     "name": "stdout",
     "output_type": "stream",
     "text": [
      "<tbody>\n",
      "<tr>\n",
      "<th scope=\"row\">제목</th>\n",
      "<td class=\"title\" colspan=\"5\">특허법원 2005. 10. 21. 선고 2005허5259 판결 [등록무효(의)]</td>\n",
      "</tr>\n",
      "<tr>\n",
      "<th scope=\"row\">작성자</th>\n",
      "<td>특허법원 [대전]</td>\n",
      "<th scope=\"row\">작성일</th>\n",
      "<td>2005.10.21</td>\n",
      "<th scope=\"row\">조회</th>\n",
      "<td>25215</td>\n",
      "</tr>\n",
      "<!-- 첨부파일 Start -->\n",
      "<tr>\n",
      "<th scope=\"row\">첨부파일</th>\n",
      "<td class=\"board_head03\" colspan=\"5\">\n",
      "<a href=\"javascript:download('1129870139007_134859.pdf','2005허5259.pdf')\" title=\"2005허5259.pdf\">2005허5259.pdf</a>\n",
      "                                    \n",
      "                                    \n",
      "                                    \n",
      "                                    \n",
      "                                     \n",
      "                                    </td>\n",
      "</tr>\n",
      "<!-- 첨부파일 End  -->\n",
      "<tr>\n",
      "<td colspan=\"6\">\n",
      "<div class=\"view_content\">\n",
      "<p>사건 : 특허법원 2005. 10. 21. 선고 2005허5259 판결 [등록무효(의)] - 족구공 디자인 사건</p>\n",
      "<p> </p>\n",
      "<p>판시사항 :  가. 족구공과 배구공이 유사한 물품에 해당하는지 여부(적극)</p>\n",
      "<p>                나. 공의 표면에 형성된 모양이 서로 유사하기는 하나 그 모양을 이루는 가죽 조각에 채색</p>\n",
      "<p>                     되어 있는 색채의 종류 및 개수가 전혀 달라 비유사하다고 한 사례<br/></p>\n",
      "</div>\n",
      "</td>\n",
      "</tr>\n",
      "<!-- 이전글, 다음글 링크 Start -->\n",
      "<tr>\n",
      "<th>\n",
      "<span class=\"btn\">이전글</span>\n",
      "</th>\n",
      "<td class=\"title\" colspan=\"5\">\n",
      "<a href=\"/dcboard/new/DcNewsViewAction.work?seqnum=228&amp;gubun=44&amp;scode_kname=&amp;pageIndex=1&amp;searchWord=&amp;cbub_code=000410\">광역교통시설부담금의 산정대상인 아파트 진입도로의 의미...</a>\n",
      "</td>\n",
      "</tr>\n",
      "</tbody>\n"
     ]
    }
   ],
   "source": [
    "import requests\n",
    "from bs4 import BeautifulSoup\n",
    "\n",
    "base_url = 'https://busan.scourt.go.kr/dcboard/new/DcNewsViewAction.work?&gubun=44&cbub_code=000410&searchWord=&pageIndex=1'\n",
    "params = {\n",
    "  'seqnum':1\n",
    "  }\n",
    "\n",
    "resp = requests.get(base_url, params=params)\n",
    "soup = BeautifulSoup(resp.content)\n",
    "tbody_list = []\n",
    "tbody = soup.find('tbody')\n",
    "print(tbody)"
   ]
  }
 ],
 "metadata": {
  "kernelspec": {
   "display_name": "Python 3.8.13 ('test38')",
   "language": "python",
   "name": "python3"
  },
  "language_info": {
   "codemirror_mode": {
    "name": "ipython",
    "version": 3
   },
   "file_extension": ".py",
   "mimetype": "text/x-python",
   "name": "python",
   "nbconvert_exporter": "python",
   "pygments_lexer": "ipython3",
   "version": "3.8.13"
  },
  "orig_nbformat": 4,
  "vscode": {
   "interpreter": {
    "hash": "cd56c1f37ecf59ee39a0c19948bd126e6053c93412a23941bd2d395aa25415e8"
   }
  }
 },
 "nbformat": 4,
 "nbformat_minor": 2
}
